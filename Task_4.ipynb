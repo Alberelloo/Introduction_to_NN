{
  "cells": [
    {
      "cell_type": "markdown",
      "metadata": {
        "id": "yd2QF8vsVJS7"
      },
      "source": [
        "<ol>\n",
        "    <li>Попробуйте обучить CNN на датасете CIFAR-10.Приложить анализ с описанием того, что улучшает работу нейронной сети и что ухудшает.\n",
        "    </li>\n",
        "   \n",
        "</ol>"
      ]
    },
    {
      "cell_type": "markdown",
      "source": [
        "### Import libraries"
      ],
      "metadata": {
        "id": "1GmmY2-gZnrn"
      }
    },
    {
      "cell_type": "code",
      "source": [
        "import tensorflow as tf\n",
        "\n",
        "# Display the version\n",
        "print(tf.__version__)\n",
        "\n",
        "# other imports\n",
        "import numpy as np\n",
        "import pandas as pd\n",
        "import matplotlib.pyplot as plt\n",
        "from tensorflow.keras.layers import Conv2D, Dense, Flatten, Dropout\n",
        "from tensorflow.keras.layers import MaxPooling2D\n",
        "from tensorflow.keras.layers import BatchNormalization\n",
        "from tensorflow.keras.models import Model\n",
        "from keras.preprocessing.image import ImageDataGenerator"
      ],
      "metadata": {
        "colab": {
          "base_uri": "https://localhost:8080/"
        },
        "id": "lA1tbQz2vjnm",
        "outputId": "42d16167-55e8-4e08-c65a-2fc5bf00a1b1"
      },
      "execution_count": 41,
      "outputs": [
        {
          "output_type": "stream",
          "name": "stdout",
          "text": [
            "2.12.0\n"
          ]
        }
      ]
    },
    {
      "cell_type": "markdown",
      "source": [
        "### Load Data"
      ],
      "metadata": {
        "id": "mvUah1rlOhki"
      }
    },
    {
      "cell_type": "code",
      "source": [
        "# Load in the data\n",
        "cifar10 = tf.keras.datasets.cifar10\n",
        "\n",
        "# Distribute it to train and test set\n",
        "(x_train, y_train), (x_test, y_test) = cifar10.load_data()\n",
        "\n",
        "# Reduce pixel values\n",
        "x_train, x_test = x_train / 255.0, x_test / 255.0\n",
        "\n",
        "# flatten the label values\n",
        "y_train, y_test = y_train.flatten(), y_test.flatten()"
      ],
      "metadata": {
        "colab": {
          "base_uri": "https://localhost:8080/"
        },
        "id": "KARX8LblFKZz",
        "outputId": "fe6d3db6-23a0-4917-e7c0-469745399a85"
      },
      "execution_count": 3,
      "outputs": [
        {
          "output_type": "stream",
          "name": "stdout",
          "text": [
            "Downloading data from https://www.cs.toronto.edu/~kriz/cifar-10-python.tar.gz\n",
            "170498071/170498071 [==============================] - 2s 0us/step\n"
          ]
        }
      ]
    },
    {
      "cell_type": "markdown",
      "source": [
        "### Basic model (Sequential API)"
      ],
      "metadata": {
        "id": "WvsZLja6OrT6"
      }
    },
    {
      "cell_type": "code",
      "source": [
        "model_basic = tf.keras.models.Sequential([\n",
        "\n",
        "    Conv2D(32, (3, 3), activation='relu', input_shape=(32, 32, 3), padding='same'),\n",
        "    Conv2D(32, (3, 3), activation='relu', padding='same'),\n",
        "    MaxPooling2D((2, 2)),\n",
        "    Conv2D(64, (3, 3), activation='relu', padding='same'),\n",
        "    Conv2D(64, (3, 3), activation='relu', padding='same'),\n",
        "    MaxPooling2D((2, 2)),\n",
        "    Conv2D(128, (3, 3), activation='relu', padding='same'),\n",
        "    Conv2D(128, (3, 3), activation='relu', padding='same'),\n",
        "    MaxPooling2D((2, 2)),\n",
        "    Flatten(),\n",
        "    Dropout(0.2),\n",
        "    Dense(1024, activation='relu'),\n",
        "    Dropout(0.2),\n",
        "    Dense(10, activation='softmax')\n",
        "])\n",
        "model_basic.compile(optimizer='adam',\n",
        "              loss='sparse_categorical_crossentropy',\n",
        "              metrics=['accuracy'])\n",
        "model_basic.summary()"
      ],
      "metadata": {
        "colab": {
          "base_uri": "https://localhost:8080/"
        },
        "id": "mO71m1ejN7RF",
        "outputId": "ca3296ad-ce4e-49e4-8043-2a037f4416f4"
      },
      "execution_count": 30,
      "outputs": [
        {
          "output_type": "stream",
          "name": "stdout",
          "text": [
            "Model: \"sequential_2\"\n",
            "_________________________________________________________________\n",
            " Layer (type)                Output Shape              Param #   \n",
            "=================================================================\n",
            " conv2d_12 (Conv2D)          (None, 32, 32, 32)        896       \n",
            "                                                                 \n",
            " conv2d_13 (Conv2D)          (None, 32, 32, 32)        9248      \n",
            "                                                                 \n",
            " max_pooling2d_9 (MaxPooling  (None, 16, 16, 32)       0         \n",
            " 2D)                                                             \n",
            "                                                                 \n",
            " conv2d_14 (Conv2D)          (None, 16, 16, 64)        18496     \n",
            "                                                                 \n",
            " conv2d_15 (Conv2D)          (None, 16, 16, 64)        36928     \n",
            "                                                                 \n",
            " max_pooling2d_10 (MaxPoolin  (None, 8, 8, 64)         0         \n",
            " g2D)                                                            \n",
            "                                                                 \n",
            " conv2d_16 (Conv2D)          (None, 8, 8, 128)         73856     \n",
            "                                                                 \n",
            " conv2d_17 (Conv2D)          (None, 8, 8, 128)         147584    \n",
            "                                                                 \n",
            " max_pooling2d_11 (MaxPoolin  (None, 4, 4, 128)        0         \n",
            " g2D)                                                            \n",
            "                                                                 \n",
            " flatten_5 (Flatten)         (None, 2048)              0         \n",
            "                                                                 \n",
            " dropout_10 (Dropout)        (None, 2048)              0         \n",
            "                                                                 \n",
            " dense_10 (Dense)            (None, 1024)              2098176   \n",
            "                                                                 \n",
            " dropout_11 (Dropout)        (None, 1024)              0         \n",
            "                                                                 \n",
            " dense_11 (Dense)            (None, 10)                10250     \n",
            "                                                                 \n",
            "=================================================================\n",
            "Total params: 2,395,434\n",
            "Trainable params: 2,395,434\n",
            "Non-trainable params: 0\n",
            "_________________________________________________________________\n"
          ]
        }
      ]
    },
    {
      "cell_type": "markdown",
      "source": [
        "### Model with BN (Sequential API)"
      ],
      "metadata": {
        "id": "VYUPz9YEOuci"
      }
    },
    {
      "cell_type": "code",
      "source": [
        "model_BN = tf.keras.models.Sequential([\n",
        "\n",
        "    Conv2D(32, (3, 3), activation='relu', input_shape=(32, 32, 3), padding='same'),\n",
        "    Conv2D(32, (3, 3), activation='relu', padding='same'),\n",
        "    BatchNormalization(),\n",
        "    MaxPooling2D((2, 2)),\n",
        "    Conv2D(64, (3, 3), activation='relu', padding='same'),\n",
        "    Conv2D(64, (3, 3), activation='relu', padding='same'),\n",
        "    BatchNormalization(),\n",
        "    MaxPooling2D((2, 2)),\n",
        "    Conv2D(128, (3, 3), activation='relu', padding='same'),\n",
        "    Conv2D(128, (3, 3), activation='relu', padding='same'),\n",
        "    BatchNormalization(),\n",
        "    MaxPooling2D((2, 2)),\n",
        "    Flatten(),\n",
        "    Dropout(0.2),\n",
        "    Dense(1024, activation='relu'),\n",
        "    Dropout(0.2),\n",
        "    Dense(10, activation='softmax')\n",
        "])\n",
        "\n",
        "model_BN.compile(optimizer='adam',\n",
        "              loss='sparse_categorical_crossentropy',\n",
        "              metrics=['accuracy'])\n",
        "model_BN.summary()"
      ],
      "metadata": {
        "colab": {
          "base_uri": "https://localhost:8080/"
        },
        "id": "sXZVHKGoKyJi",
        "outputId": "37d81bc8-2d52-4987-bc2a-f779bd60cb2b"
      },
      "execution_count": 31,
      "outputs": [
        {
          "output_type": "stream",
          "name": "stdout",
          "text": [
            "Model: \"sequential_3\"\n",
            "_________________________________________________________________\n",
            " Layer (type)                Output Shape              Param #   \n",
            "=================================================================\n",
            " conv2d_18 (Conv2D)          (None, 32, 32, 32)        896       \n",
            "                                                                 \n",
            " conv2d_19 (Conv2D)          (None, 32, 32, 32)        9248      \n",
            "                                                                 \n",
            " batch_normalization_3 (Batc  (None, 32, 32, 32)       128       \n",
            " hNormalization)                                                 \n",
            "                                                                 \n",
            " max_pooling2d_12 (MaxPoolin  (None, 16, 16, 32)       0         \n",
            " g2D)                                                            \n",
            "                                                                 \n",
            " conv2d_20 (Conv2D)          (None, 16, 16, 64)        18496     \n",
            "                                                                 \n",
            " conv2d_21 (Conv2D)          (None, 16, 16, 64)        36928     \n",
            "                                                                 \n",
            " batch_normalization_4 (Batc  (None, 16, 16, 64)       256       \n",
            " hNormalization)                                                 \n",
            "                                                                 \n",
            " max_pooling2d_13 (MaxPoolin  (None, 8, 8, 64)         0         \n",
            " g2D)                                                            \n",
            "                                                                 \n",
            " conv2d_22 (Conv2D)          (None, 8, 8, 128)         73856     \n",
            "                                                                 \n",
            " conv2d_23 (Conv2D)          (None, 8, 8, 128)         147584    \n",
            "                                                                 \n",
            " batch_normalization_5 (Batc  (None, 8, 8, 128)        512       \n",
            " hNormalization)                                                 \n",
            "                                                                 \n",
            " max_pooling2d_14 (MaxPoolin  (None, 4, 4, 128)        0         \n",
            " g2D)                                                            \n",
            "                                                                 \n",
            " flatten_6 (Flatten)         (None, 2048)              0         \n",
            "                                                                 \n",
            " dropout_12 (Dropout)        (None, 2048)              0         \n",
            "                                                                 \n",
            " dense_12 (Dense)            (None, 1024)              2098176   \n",
            "                                                                 \n",
            " dropout_13 (Dropout)        (None, 1024)              0         \n",
            "                                                                 \n",
            " dense_13 (Dense)            (None, 10)                10250     \n",
            "                                                                 \n",
            "=================================================================\n",
            "Total params: 2,396,330\n",
            "Trainable params: 2,395,882\n",
            "Non-trainable params: 448\n",
            "_________________________________________________________________\n"
          ]
        }
      ]
    },
    {
      "cell_type": "markdown",
      "source": [
        "### Preatrained model (Functional API)"
      ],
      "metadata": {
        "id": "i6BkDmdIOxh4"
      }
    },
    {
      "cell_type": "code",
      "source": [
        "def feature_extractor(inputs):\n",
        "\n",
        "    mobilenet_model = tf.keras.applications.mobilenet_v2.MobileNetV2(\n",
        "    input_shape=(32,32,3),\n",
        "    include_top=False,\n",
        "    weights='imagenet'\n",
        ")\n",
        "\n",
        "    feature_extractor = mobilenet_model(inputs)\n",
        "\n",
        "    return feature_extractor\n",
        "\n",
        "def dense_layers(features):\n",
        "\n",
        "    x = Flatten()(features)\n",
        "    x = Dropout(0.2)(x)\n",
        "    x = tf.keras.layers.Dense(1024, activation='relu')(x)\n",
        "    x = Dropout(0.2)(x)\n",
        "    x = Dense(10, activation='softmax')(x)\n",
        "\n",
        "    return x\n",
        "\n",
        "def final_model(inputs):\n",
        "\n",
        "    feature_cnn = feature_extractor(inputs)\n",
        "\n",
        "    last_dense_layer = dense_layers(feature_cnn)\n",
        "\n",
        "    model =tf.keras.Model(inputs=inputs, outputs=last_dense_layer)\n",
        "\n",
        "    return model\n",
        "\n",
        "def define_and_compile_model():\n",
        "\n",
        "    inputs = tf.keras.Input(shape=(32,32,3))\n",
        "\n",
        "    model = final_model(inputs)\n",
        "\n",
        "    model.compile(optimizer='adam',\n",
        "              loss='sparse_categorical_crossentropy',\n",
        "              metrics=['accuracy'])\n",
        "\n",
        "    return model"
      ],
      "metadata": {
        "id": "j8Pt67cfPQxD"
      },
      "execution_count": 32,
      "outputs": []
    },
    {
      "cell_type": "code",
      "source": [
        "model_pretrained = define_and_compile_model()\n",
        "\n",
        "model_pretrained.summary()"
      ],
      "metadata": {
        "colab": {
          "base_uri": "https://localhost:8080/"
        },
        "id": "8Mq2o85qQusc",
        "outputId": "409e2039-c32e-48e7-9f35-9383660372af"
      },
      "execution_count": 33,
      "outputs": [
        {
          "output_type": "stream",
          "name": "stderr",
          "text": [
            "WARNING:tensorflow:`input_shape` is undefined or non-square, or `rows` is not in [96, 128, 160, 192, 224]. Weights for input shape (224, 224) will be loaded as the default.\n"
          ]
        },
        {
          "output_type": "stream",
          "name": "stdout",
          "text": [
            "Model: \"model_3\"\n",
            "_________________________________________________________________\n",
            " Layer (type)                Output Shape              Param #   \n",
            "=================================================================\n",
            " input_9 (InputLayer)        [(None, 32, 32, 3)]       0         \n",
            "                                                                 \n",
            " mobilenetv2_1.00_224 (Funct  (None, 1, 1, 1280)       2257984   \n",
            " ional)                                                          \n",
            "                                                                 \n",
            " flatten_7 (Flatten)         (None, 1280)              0         \n",
            "                                                                 \n",
            " dropout_14 (Dropout)        (None, 1280)              0         \n",
            "                                                                 \n",
            " dense_14 (Dense)            (None, 1024)              1311744   \n",
            "                                                                 \n",
            " dropout_15 (Dropout)        (None, 1024)              0         \n",
            "                                                                 \n",
            " dense_15 (Dense)            (None, 10)                10250     \n",
            "                                                                 \n",
            "=================================================================\n",
            "Total params: 3,579,978\n",
            "Trainable params: 3,545,866\n",
            "Non-trainable params: 34,112\n",
            "_________________________________________________________________\n"
          ]
        }
      ]
    },
    {
      "cell_type": "markdown",
      "source": [
        "### Training and evaluating without augmentations"
      ],
      "metadata": {
        "id": "gsMrvBoBStl1"
      }
    },
    {
      "cell_type": "code",
      "source": [
        "bacis_res = model_basic.fit(x_train, y_train, validation_data=(x_test, y_test), epochs=20)\n",
        "scores_bs = model_basic.evaluate(x_test, y_test, verbose=1)\n",
        "print('Test loss:', scores_bs[0])\n",
        "print('Test accuracy:', scores_bs[1])"
      ],
      "metadata": {
        "colab": {
          "base_uri": "https://localhost:8080/"
        },
        "id": "8BScImcdSxx4",
        "outputId": "c5077cd1-6e7c-44c9-ec99-3f83e316929d"
      },
      "execution_count": 34,
      "outputs": [
        {
          "output_type": "stream",
          "name": "stdout",
          "text": [
            "Epoch 1/20\n",
            "1563/1563 [==============================] - 16s 7ms/step - loss: 1.5065 - accuracy: 0.4462 - val_loss: 1.1640 - val_accuracy: 0.5704\n",
            "Epoch 2/20\n",
            "1563/1563 [==============================] - 10s 6ms/step - loss: 1.0292 - accuracy: 0.6323 - val_loss: 0.9134 - val_accuracy: 0.6770\n",
            "Epoch 3/20\n",
            "1563/1563 [==============================] - 10s 6ms/step - loss: 0.8273 - accuracy: 0.7089 - val_loss: 0.7623 - val_accuracy: 0.7335\n",
            "Epoch 4/20\n",
            "1563/1563 [==============================] - 10s 6ms/step - loss: 0.7012 - accuracy: 0.7520 - val_loss: 0.7063 - val_accuracy: 0.7572\n",
            "Epoch 5/20\n",
            "1563/1563 [==============================] - 10s 6ms/step - loss: 0.6229 - accuracy: 0.7814 - val_loss: 0.7431 - val_accuracy: 0.7430\n",
            "Epoch 6/20\n",
            "1563/1563 [==============================] - 10s 6ms/step - loss: 0.5541 - accuracy: 0.8075 - val_loss: 0.6940 - val_accuracy: 0.7687\n",
            "Epoch 7/20\n",
            "1563/1563 [==============================] - 11s 7ms/step - loss: 0.4903 - accuracy: 0.8275 - val_loss: 0.7593 - val_accuracy: 0.7483\n",
            "Epoch 8/20\n",
            "1563/1563 [==============================] - 10s 7ms/step - loss: 0.4481 - accuracy: 0.8412 - val_loss: 0.6606 - val_accuracy: 0.7813\n",
            "Epoch 9/20\n",
            "1563/1563 [==============================] - 11s 7ms/step - loss: 0.4102 - accuracy: 0.8554 - val_loss: 0.7065 - val_accuracy: 0.7755\n",
            "Epoch 10/20\n",
            "1563/1563 [==============================] - 12s 7ms/step - loss: 0.3701 - accuracy: 0.8672 - val_loss: 0.7396 - val_accuracy: 0.7684\n",
            "Epoch 11/20\n",
            "1563/1563 [==============================] - 10s 7ms/step - loss: 0.3480 - accuracy: 0.8784 - val_loss: 0.7277 - val_accuracy: 0.7761\n",
            "Epoch 12/20\n",
            "1563/1563 [==============================] - 11s 7ms/step - loss: 0.3171 - accuracy: 0.8888 - val_loss: 0.7916 - val_accuracy: 0.7763\n",
            "Epoch 13/20\n",
            "1563/1563 [==============================] - 10s 6ms/step - loss: 0.3070 - accuracy: 0.8931 - val_loss: 0.8192 - val_accuracy: 0.7751\n",
            "Epoch 14/20\n",
            "1563/1563 [==============================] - 10s 7ms/step - loss: 0.2980 - accuracy: 0.8957 - val_loss: 0.8388 - val_accuracy: 0.7774\n",
            "Epoch 15/20\n",
            "1563/1563 [==============================] - 9s 6ms/step - loss: 0.2734 - accuracy: 0.9050 - val_loss: 0.8033 - val_accuracy: 0.7749\n",
            "Epoch 16/20\n",
            "1563/1563 [==============================] - 10s 6ms/step - loss: 0.2779 - accuracy: 0.9045 - val_loss: 0.8446 - val_accuracy: 0.7692\n",
            "Epoch 17/20\n",
            "1563/1563 [==============================] - 10s 7ms/step - loss: 0.2635 - accuracy: 0.9087 - val_loss: 0.8167 - val_accuracy: 0.7813\n",
            "Epoch 18/20\n",
            "1563/1563 [==============================] - 11s 7ms/step - loss: 0.2515 - accuracy: 0.9144 - val_loss: 0.8545 - val_accuracy: 0.7761\n",
            "Epoch 19/20\n",
            "1563/1563 [==============================] - 10s 6ms/step - loss: 0.2544 - accuracy: 0.9139 - val_loss: 0.8676 - val_accuracy: 0.7765\n",
            "Epoch 20/20\n",
            "1563/1563 [==============================] - 10s 7ms/step - loss: 0.2445 - accuracy: 0.9178 - val_loss: 0.9190 - val_accuracy: 0.7762\n",
            "313/313 [==============================] - 1s 3ms/step - loss: 0.9190 - accuracy: 0.7762\n",
            "Test loss: 0.9189966917037964\n",
            "Test accuracy: 0.776199996471405\n"
          ]
        }
      ]
    },
    {
      "cell_type": "code",
      "source": [
        "BN_res = model_BN.fit(x_train, y_train, validation_data=(x_test, y_test), epochs=20)\n",
        "scores_bn = model_BN.evaluate(x_test, y_test, verbose=1)\n",
        "print('Test loss:', scores_bn[0])\n",
        "print('Test accuracy:', scores_bn[1])"
      ],
      "metadata": {
        "colab": {
          "base_uri": "https://localhost:8080/"
        },
        "id": "DaOR_bUUUqjJ",
        "outputId": "c6f292e2-43a8-4e32-e121-3fbf5c85df49"
      },
      "execution_count": 35,
      "outputs": [
        {
          "output_type": "stream",
          "name": "stdout",
          "text": [
            "Epoch 1/20\n",
            "1563/1563 [==============================] - 17s 8ms/step - loss: 1.3853 - accuracy: 0.5185 - val_loss: 1.3404 - val_accuracy: 0.5453\n",
            "Epoch 2/20\n",
            "1563/1563 [==============================] - 12s 8ms/step - loss: 0.9107 - accuracy: 0.6841 - val_loss: 1.0004 - val_accuracy: 0.6707\n",
            "Epoch 3/20\n",
            "1563/1563 [==============================] - 12s 8ms/step - loss: 0.7388 - accuracy: 0.7440 - val_loss: 0.8489 - val_accuracy: 0.7238\n",
            "Epoch 4/20\n",
            "1563/1563 [==============================] - 12s 8ms/step - loss: 0.6306 - accuracy: 0.7826 - val_loss: 0.6976 - val_accuracy: 0.7641\n",
            "Epoch 5/20\n",
            "1563/1563 [==============================] - 11s 7ms/step - loss: 0.5339 - accuracy: 0.8148 - val_loss: 0.6554 - val_accuracy: 0.7852\n",
            "Epoch 6/20\n",
            "1563/1563 [==============================] - 11s 7ms/step - loss: 0.4563 - accuracy: 0.8418 - val_loss: 0.6684 - val_accuracy: 0.7798\n",
            "Epoch 7/20\n",
            "1563/1563 [==============================] - 11s 7ms/step - loss: 0.3909 - accuracy: 0.8621 - val_loss: 0.7051 - val_accuracy: 0.7855\n",
            "Epoch 8/20\n",
            "1563/1563 [==============================] - 11s 7ms/step - loss: 0.3341 - accuracy: 0.8848 - val_loss: 0.7251 - val_accuracy: 0.7848\n",
            "Epoch 9/20\n",
            "1563/1563 [==============================] - 11s 7ms/step - loss: 0.2833 - accuracy: 0.9024 - val_loss: 0.6840 - val_accuracy: 0.7961\n",
            "Epoch 10/20\n",
            "1563/1563 [==============================] - 11s 7ms/step - loss: 0.2453 - accuracy: 0.9163 - val_loss: 0.7289 - val_accuracy: 0.7945\n",
            "Epoch 11/20\n",
            "1563/1563 [==============================] - 12s 7ms/step - loss: 0.2091 - accuracy: 0.9283 - val_loss: 0.7439 - val_accuracy: 0.7954\n",
            "Epoch 12/20\n",
            "1563/1563 [==============================] - 12s 8ms/step - loss: 0.1904 - accuracy: 0.9355 - val_loss: 0.7108 - val_accuracy: 0.8100\n",
            "Epoch 13/20\n",
            "1563/1563 [==============================] - 12s 8ms/step - loss: 0.1749 - accuracy: 0.9390 - val_loss: 0.9725 - val_accuracy: 0.7817\n",
            "Epoch 14/20\n",
            "1563/1563 [==============================] - 12s 7ms/step - loss: 0.1588 - accuracy: 0.9469 - val_loss: 0.8395 - val_accuracy: 0.7926\n",
            "Epoch 15/20\n",
            "1563/1563 [==============================] - 12s 7ms/step - loss: 0.1462 - accuracy: 0.9505 - val_loss: 0.6963 - val_accuracy: 0.8155\n",
            "Epoch 16/20\n",
            "1563/1563 [==============================] - 12s 7ms/step - loss: 0.1344 - accuracy: 0.9559 - val_loss: 0.8148 - val_accuracy: 0.8122\n",
            "Epoch 17/20\n",
            "1563/1563 [==============================] - 12s 7ms/step - loss: 0.1275 - accuracy: 0.9574 - val_loss: 0.7588 - val_accuracy: 0.8179\n",
            "Epoch 18/20\n",
            "1563/1563 [==============================] - 17s 11ms/step - loss: 0.1242 - accuracy: 0.9588 - val_loss: 0.9193 - val_accuracy: 0.8113\n",
            "Epoch 19/20\n",
            "1563/1563 [==============================] - 14s 9ms/step - loss: 0.1092 - accuracy: 0.9638 - val_loss: 0.8284 - val_accuracy: 0.8139\n",
            "Epoch 20/20\n",
            "1563/1563 [==============================] - 20s 13ms/step - loss: 0.1071 - accuracy: 0.9638 - val_loss: 0.8951 - val_accuracy: 0.8099\n",
            "313/313 [==============================] - 2s 5ms/step - loss: 0.8951 - accuracy: 0.8099\n",
            "Test loss: 0.8950709700584412\n",
            "Test accuracy: 0.8098999857902527\n"
          ]
        }
      ]
    },
    {
      "cell_type": "code",
      "source": [
        "pretr_res = model_pretrained.fit(x_train, y_train, validation_data=(x_test, y_test), epochs=20)\n",
        "scores_pt = model_pretrained.evaluate(x_test, y_test, verbose=1)\n",
        "print('Test loss:', scores_pt[0])\n",
        "print('Test accuracy:', scores_pt[1])"
      ],
      "metadata": {
        "colab": {
          "base_uri": "https://localhost:8080/"
        },
        "id": "SYdJGICUVqcR",
        "outputId": "d76eee74-c66d-41f8-97b2-ee56ac3316d0"
      },
      "execution_count": 36,
      "outputs": [
        {
          "output_type": "stream",
          "name": "stdout",
          "text": [
            "Epoch 1/20\n",
            "1563/1563 [==============================] - 114s 51ms/step - loss: 1.3829 - accuracy: 0.5390 - val_loss: 1.4700 - val_accuracy: 0.5230\n",
            "Epoch 2/20\n",
            "1563/1563 [==============================] - 56s 36ms/step - loss: 0.9997 - accuracy: 0.6745 - val_loss: 1.0482 - val_accuracy: 0.6731\n",
            "Epoch 3/20\n",
            "1563/1563 [==============================] - 50s 32ms/step - loss: 0.9327 - accuracy: 0.6970 - val_loss: 2.6416 - val_accuracy: 0.4209\n",
            "Epoch 4/20\n",
            "1563/1563 [==============================] - 51s 33ms/step - loss: 1.0133 - accuracy: 0.6619 - val_loss: 2.1225 - val_accuracy: 0.5360\n",
            "Epoch 5/20\n",
            "1563/1563 [==============================] - 46s 30ms/step - loss: 0.9080 - accuracy: 0.7008 - val_loss: 1.9576 - val_accuracy: 0.5351\n",
            "Epoch 6/20\n",
            "1563/1563 [==============================] - 46s 30ms/step - loss: 0.8891 - accuracy: 0.7099 - val_loss: 2.2332 - val_accuracy: 0.3907\n",
            "Epoch 7/20\n",
            "1563/1563 [==============================] - 46s 29ms/step - loss: 0.7879 - accuracy: 0.7409 - val_loss: 1.8409 - val_accuracy: 0.5291\n",
            "Epoch 8/20\n",
            "1563/1563 [==============================] - 47s 30ms/step - loss: 0.7596 - accuracy: 0.7529 - val_loss: 0.9349 - val_accuracy: 0.7034\n",
            "Epoch 9/20\n",
            "1563/1563 [==============================] - 48s 30ms/step - loss: 0.7726 - accuracy: 0.7496 - val_loss: 1.1887 - val_accuracy: 0.6514\n",
            "Epoch 10/20\n",
            "1563/1563 [==============================] - 48s 30ms/step - loss: 0.6719 - accuracy: 0.7832 - val_loss: 4.9183 - val_accuracy: 0.2365\n",
            "Epoch 11/20\n",
            "1563/1563 [==============================] - 48s 30ms/step - loss: 1.0368 - accuracy: 0.6534 - val_loss: 1.6182 - val_accuracy: 0.4133\n",
            "Epoch 12/20\n",
            "1563/1563 [==============================] - 46s 30ms/step - loss: 1.0421 - accuracy: 0.6467 - val_loss: 1.1907 - val_accuracy: 0.6178\n",
            "Epoch 13/20\n",
            "1563/1563 [==============================] - 51s 32ms/step - loss: 1.1211 - accuracy: 0.6187 - val_loss: 1.0151 - val_accuracy: 0.6687\n",
            "Epoch 14/20\n",
            "1563/1563 [==============================] - 51s 32ms/step - loss: 0.9564 - accuracy: 0.6815 - val_loss: 1.3345 - val_accuracy: 0.5643\n",
            "Epoch 15/20\n",
            "1563/1563 [==============================] - 50s 32ms/step - loss: 0.9712 - accuracy: 0.6735 - val_loss: 1.2275 - val_accuracy: 0.6044\n",
            "Epoch 16/20\n",
            "1563/1563 [==============================] - 47s 30ms/step - loss: 0.9690 - accuracy: 0.6772 - val_loss: 1.3382 - val_accuracy: 0.5492\n",
            "Epoch 17/20\n",
            "1563/1563 [==============================] - 46s 30ms/step - loss: 1.0447 - accuracy: 0.6495 - val_loss: 1.1835 - val_accuracy: 0.5948\n",
            "Epoch 18/20\n",
            "1563/1563 [==============================] - 45s 29ms/step - loss: 0.9751 - accuracy: 0.6676 - val_loss: 1.1767 - val_accuracy: 0.6032\n",
            "Epoch 19/20\n",
            "1563/1563 [==============================] - 48s 31ms/step - loss: 1.0110 - accuracy: 0.6558 - val_loss: 1.1758 - val_accuracy: 0.5772\n",
            "Epoch 20/20\n",
            "1563/1563 [==============================] - 47s 30ms/step - loss: 0.9252 - accuracy: 0.6880 - val_loss: 1.5109 - val_accuracy: 0.4853\n",
            "313/313 [==============================] - 3s 8ms/step - loss: 1.5109 - accuracy: 0.4853\n",
            "Test loss: 1.5109426975250244\n",
            "Test accuracy: 0.4853000044822693\n"
          ]
        }
      ]
    },
    {
      "cell_type": "markdown",
      "source": [
        "### Training and evaluating with augmentations"
      ],
      "metadata": {
        "id": "0sJKp6e6aeK7"
      }
    },
    {
      "cell_type": "code",
      "source": [
        "datagen = ImageDataGenerator(\n",
        "        rotation_range=10,\n",
        "        width_shift_range=0.1,\n",
        "        height_shift_range=0.1,\n",
        "        shear_range=0.2,\n",
        "        zoom_range=0.2,\n",
        "        horizontal_flip=False,\n",
        "        vertical_flip=False)\n",
        "\n",
        "datagen.fit(x_train)"
      ],
      "metadata": {
        "id": "AO2RBQo2Z7TL"
      },
      "execution_count": 37,
      "outputs": []
    },
    {
      "cell_type": "code",
      "source": [
        "bacis_res = model_basic.fit(datagen.flow(x_train, y_train, batch_size=32), epochs=20, validation_data=(x_test, y_test))\n",
        "scores_bs_aug = model_basic.evaluate(x_test, y_test, verbose=1)\n",
        "print('Test loss:', scores_bs_aug[0])\n",
        "print('Test accuracy:', scores_bs_aug[1])"
      ],
      "metadata": {
        "colab": {
          "base_uri": "https://localhost:8080/"
        },
        "id": "1X9Qim6GavlF",
        "outputId": "a4f01308-b7bc-422a-9bc4-d3130cc9bc9a"
      },
      "execution_count": 38,
      "outputs": [
        {
          "output_type": "stream",
          "name": "stdout",
          "text": [
            "Epoch 1/20\n",
            "1563/1563 [==============================] - 36s 23ms/step - loss: 0.8139 - accuracy: 0.7267 - val_loss: 0.7769 - val_accuracy: 0.7486\n",
            "Epoch 2/20\n",
            "1563/1563 [==============================] - 36s 23ms/step - loss: 0.7488 - accuracy: 0.7448 - val_loss: 0.7712 - val_accuracy: 0.7522\n",
            "Epoch 3/20\n",
            "1563/1563 [==============================] - 36s 23ms/step - loss: 0.7350 - accuracy: 0.7459 - val_loss: 0.6910 - val_accuracy: 0.7669\n",
            "Epoch 4/20\n",
            "1563/1563 [==============================] - 36s 23ms/step - loss: 0.7250 - accuracy: 0.7525 - val_loss: 0.7500 - val_accuracy: 0.7581\n",
            "Epoch 5/20\n",
            "1563/1563 [==============================] - 36s 23ms/step - loss: 0.7107 - accuracy: 0.7565 - val_loss: 0.7054 - val_accuracy: 0.7721\n",
            "Epoch 6/20\n",
            "1563/1563 [==============================] - 36s 23ms/step - loss: 0.7051 - accuracy: 0.7588 - val_loss: 0.7289 - val_accuracy: 0.7622\n",
            "Epoch 7/20\n",
            "1563/1563 [==============================] - 36s 23ms/step - loss: 0.7006 - accuracy: 0.7600 - val_loss: 0.7200 - val_accuracy: 0.7651\n",
            "Epoch 8/20\n",
            "1563/1563 [==============================] - 35s 23ms/step - loss: 0.6745 - accuracy: 0.7690 - val_loss: 0.8164 - val_accuracy: 0.7472\n",
            "Epoch 9/20\n",
            "1563/1563 [==============================] - 35s 22ms/step - loss: 0.6749 - accuracy: 0.7684 - val_loss: 0.7158 - val_accuracy: 0.7747\n",
            "Epoch 10/20\n",
            "1563/1563 [==============================] - 36s 23ms/step - loss: 0.6781 - accuracy: 0.7672 - val_loss: 0.7324 - val_accuracy: 0.7688\n",
            "Epoch 11/20\n",
            "1563/1563 [==============================] - 36s 23ms/step - loss: 0.6614 - accuracy: 0.7736 - val_loss: 0.7058 - val_accuracy: 0.7779\n",
            "Epoch 12/20\n",
            "1563/1563 [==============================] - 36s 23ms/step - loss: 0.6524 - accuracy: 0.7757 - val_loss: 0.6716 - val_accuracy: 0.7759\n",
            "Epoch 13/20\n",
            "1563/1563 [==============================] - 37s 23ms/step - loss: 0.6581 - accuracy: 0.7731 - val_loss: 0.6642 - val_accuracy: 0.7873\n",
            "Epoch 14/20\n",
            "1563/1563 [==============================] - 35s 22ms/step - loss: 0.6528 - accuracy: 0.7759 - val_loss: 0.7387 - val_accuracy: 0.7667\n",
            "Epoch 15/20\n",
            "1563/1563 [==============================] - 36s 23ms/step - loss: 0.6375 - accuracy: 0.7790 - val_loss: 0.6718 - val_accuracy: 0.7848\n",
            "Epoch 16/20\n",
            "1563/1563 [==============================] - 37s 23ms/step - loss: 0.6430 - accuracy: 0.7795 - val_loss: 0.6874 - val_accuracy: 0.7798\n",
            "Epoch 17/20\n",
            "1563/1563 [==============================] - 36s 23ms/step - loss: 0.6308 - accuracy: 0.7840 - val_loss: 0.6636 - val_accuracy: 0.7835\n",
            "Epoch 18/20\n",
            "1563/1563 [==============================] - 36s 23ms/step - loss: 0.6383 - accuracy: 0.7811 - val_loss: 0.6781 - val_accuracy: 0.7843\n",
            "Epoch 19/20\n",
            "1563/1563 [==============================] - 36s 23ms/step - loss: 0.6278 - accuracy: 0.7837 - val_loss: 0.6512 - val_accuracy: 0.7876\n",
            "Epoch 20/20\n",
            "1563/1563 [==============================] - 35s 22ms/step - loss: 0.6306 - accuracy: 0.7832 - val_loss: 0.6526 - val_accuracy: 0.7913\n",
            "313/313 [==============================] - 1s 4ms/step - loss: 0.6526 - accuracy: 0.7913\n",
            "Test loss: 0.6525511145591736\n",
            "Test accuracy: 0.7912999987602234\n"
          ]
        }
      ]
    },
    {
      "cell_type": "code",
      "source": [
        "BN_res = model_BN.fit(datagen.flow(x_train, y_train, batch_size=32), epochs=20, validation_data=(x_test, y_test))\n",
        "scores_bn_aug = model_BN.evaluate(x_test, y_test, verbose=1)\n",
        "print('Test loss:', scores_bn_aug[0])\n",
        "print('Test accuracy:', scores_bn_aug[1])"
      ],
      "metadata": {
        "colab": {
          "base_uri": "https://localhost:8080/"
        },
        "id": "yjK6bDDZavlH",
        "outputId": "0c1f161a-58ac-4f33-a248-65816ba12fc0"
      },
      "execution_count": 39,
      "outputs": [
        {
          "output_type": "stream",
          "name": "stdout",
          "text": [
            "Epoch 1/20\n",
            "1563/1563 [==============================] - 37s 23ms/step - loss: 0.6250 - accuracy: 0.7930 - val_loss: 0.7228 - val_accuracy: 0.7794\n",
            "Epoch 2/20\n",
            "1563/1563 [==============================] - 36s 23ms/step - loss: 0.5121 - accuracy: 0.8280 - val_loss: 0.6687 - val_accuracy: 0.7976\n",
            "Epoch 3/20\n",
            "1563/1563 [==============================] - 36s 23ms/step - loss: 0.4674 - accuracy: 0.8410 - val_loss: 0.6662 - val_accuracy: 0.7937\n",
            "Epoch 4/20\n",
            "1563/1563 [==============================] - 37s 24ms/step - loss: 0.4476 - accuracy: 0.8479 - val_loss: 0.5448 - val_accuracy: 0.8217\n",
            "Epoch 5/20\n",
            "1563/1563 [==============================] - 37s 24ms/step - loss: 0.4269 - accuracy: 0.8536 - val_loss: 0.5378 - val_accuracy: 0.8285\n",
            "Epoch 6/20\n",
            "1563/1563 [==============================] - 37s 24ms/step - loss: 0.4115 - accuracy: 0.8595 - val_loss: 0.6041 - val_accuracy: 0.8163\n",
            "Epoch 7/20\n",
            "1563/1563 [==============================] - 36s 23ms/step - loss: 0.3945 - accuracy: 0.8641 - val_loss: 0.5842 - val_accuracy: 0.8137\n",
            "Epoch 8/20\n",
            "1563/1563 [==============================] - 37s 24ms/step - loss: 0.3834 - accuracy: 0.8689 - val_loss: 0.5572 - val_accuracy: 0.8247\n",
            "Epoch 9/20\n",
            "1563/1563 [==============================] - 37s 24ms/step - loss: 0.3683 - accuracy: 0.8729 - val_loss: 0.5965 - val_accuracy: 0.8223\n",
            "Epoch 10/20\n",
            "1563/1563 [==============================] - 38s 24ms/step - loss: 0.3619 - accuracy: 0.8758 - val_loss: 0.5883 - val_accuracy: 0.8163\n",
            "Epoch 11/20\n",
            "1563/1563 [==============================] - 39s 25ms/step - loss: 0.3471 - accuracy: 0.8795 - val_loss: 0.5657 - val_accuracy: 0.8298\n",
            "Epoch 12/20\n",
            "1563/1563 [==============================] - 38s 24ms/step - loss: 0.3415 - accuracy: 0.8831 - val_loss: 0.5199 - val_accuracy: 0.8359\n",
            "Epoch 13/20\n",
            "1563/1563 [==============================] - 38s 24ms/step - loss: 0.3330 - accuracy: 0.8853 - val_loss: 0.5223 - val_accuracy: 0.8389\n",
            "Epoch 14/20\n",
            "1563/1563 [==============================] - 39s 25ms/step - loss: 0.3205 - accuracy: 0.8900 - val_loss: 0.4969 - val_accuracy: 0.8469\n",
            "Epoch 15/20\n",
            "1563/1563 [==============================] - 38s 24ms/step - loss: 0.3151 - accuracy: 0.8917 - val_loss: 0.5041 - val_accuracy: 0.8432\n",
            "Epoch 16/20\n",
            "1563/1563 [==============================] - 39s 25ms/step - loss: 0.2980 - accuracy: 0.8981 - val_loss: 0.6022 - val_accuracy: 0.8320\n",
            "Epoch 17/20\n",
            "1563/1563 [==============================] - 39s 25ms/step - loss: 0.2998 - accuracy: 0.8948 - val_loss: 0.4833 - val_accuracy: 0.8473\n",
            "Epoch 18/20\n",
            "1563/1563 [==============================] - 38s 24ms/step - loss: 0.2924 - accuracy: 0.8993 - val_loss: 0.5176 - val_accuracy: 0.8521\n",
            "Epoch 19/20\n",
            "1563/1563 [==============================] - 39s 25ms/step - loss: 0.2889 - accuracy: 0.9021 - val_loss: 0.5115 - val_accuracy: 0.8419\n",
            "Epoch 20/20\n",
            "1563/1563 [==============================] - 41s 26ms/step - loss: 0.2815 - accuracy: 0.9038 - val_loss: 0.5417 - val_accuracy: 0.8366\n",
            "313/313 [==============================] - 1s 4ms/step - loss: 0.5417 - accuracy: 0.8366\n",
            "Test loss: 0.5416781902313232\n",
            "Test accuracy: 0.8366000056266785\n"
          ]
        }
      ]
    },
    {
      "cell_type": "code",
      "source": [
        "pretr_res = model_pretrained.fit(datagen.flow(x_train, y_train, batch_size=32), epochs=20, validation_data=(x_test, y_test))\n",
        "scores_pt_aug = model_pretrained.evaluate(x_test, y_test, verbose=1)\n",
        "print('Test loss:', scores_pt_aug[0])\n",
        "print('Test accuracy:', scores_pt_aug[1])"
      ],
      "metadata": {
        "colab": {
          "base_uri": "https://localhost:8080/"
        },
        "id": "94CCqb3GavlI",
        "outputId": "fccb9ea7-82ed-4916-c1f0-8db8d818c5c9"
      },
      "execution_count": 40,
      "outputs": [
        {
          "output_type": "stream",
          "name": "stdout",
          "text": [
            "Epoch 1/20\n",
            "1563/1563 [==============================] - 84s 51ms/step - loss: 1.3280 - accuracy: 0.5434 - val_loss: 1.3317 - val_accuracy: 0.5349\n",
            "Epoch 2/20\n",
            "1563/1563 [==============================] - 71s 45ms/step - loss: 1.3311 - accuracy: 0.5391 - val_loss: 1.2260 - val_accuracy: 0.5652\n",
            "Epoch 3/20\n",
            "1563/1563 [==============================] - 75s 48ms/step - loss: 1.2135 - accuracy: 0.5846 - val_loss: 1.5791 - val_accuracy: 0.4939\n",
            "Epoch 4/20\n",
            "1563/1563 [==============================] - 69s 44ms/step - loss: 1.3032 - accuracy: 0.5511 - val_loss: 1.2863 - val_accuracy: 0.5491\n",
            "Epoch 5/20\n",
            "1563/1563 [==============================] - 70s 45ms/step - loss: 1.3624 - accuracy: 0.5270 - val_loss: 1.2535 - val_accuracy: 0.5640\n",
            "Epoch 6/20\n",
            "1563/1563 [==============================] - 69s 44ms/step - loss: 1.1858 - accuracy: 0.5950 - val_loss: 1.1544 - val_accuracy: 0.5944\n",
            "Epoch 7/20\n",
            "1563/1563 [==============================] - 69s 44ms/step - loss: 1.1151 - accuracy: 0.6199 - val_loss: 1.3649 - val_accuracy: 0.5469\n",
            "Epoch 8/20\n",
            "1563/1563 [==============================] - 73s 47ms/step - loss: 1.1136 - accuracy: 0.6201 - val_loss: 1.2181 - val_accuracy: 0.5672\n",
            "Epoch 9/20\n",
            "1563/1563 [==============================] - 82s 53ms/step - loss: 1.0678 - accuracy: 0.6320 - val_loss: 0.9602 - val_accuracy: 0.6659\n",
            "Epoch 10/20\n",
            "1563/1563 [==============================] - 88s 57ms/step - loss: 1.1583 - accuracy: 0.6049 - val_loss: 1.5818 - val_accuracy: 0.4441\n",
            "Epoch 11/20\n",
            "1563/1563 [==============================] - 89s 57ms/step - loss: 1.1815 - accuracy: 0.5918 - val_loss: 1.7464 - val_accuracy: 0.4224\n",
            "Epoch 12/20\n",
            "1563/1563 [==============================] - 94s 60ms/step - loss: 1.1643 - accuracy: 0.6047 - val_loss: 1.5921 - val_accuracy: 0.4579\n",
            "Epoch 13/20\n",
            "1563/1563 [==============================] - 82s 53ms/step - loss: 1.1952 - accuracy: 0.5898 - val_loss: 1.0545 - val_accuracy: 0.6180\n",
            "Epoch 14/20\n",
            "1563/1563 [==============================] - 79s 51ms/step - loss: 1.1086 - accuracy: 0.6217 - val_loss: 1.0828 - val_accuracy: 0.6235\n",
            "Epoch 15/20\n",
            "1563/1563 [==============================] - 79s 50ms/step - loss: 1.0793 - accuracy: 0.6341 - val_loss: 0.9993 - val_accuracy: 0.6548\n",
            "Epoch 16/20\n",
            "1563/1563 [==============================] - 69s 44ms/step - loss: 1.1489 - accuracy: 0.6067 - val_loss: 1.2988 - val_accuracy: 0.5560\n",
            "Epoch 17/20\n",
            "1563/1563 [==============================] - 68s 43ms/step - loss: 1.2172 - accuracy: 0.5807 - val_loss: 1.9004 - val_accuracy: 0.3972\n",
            "Epoch 18/20\n",
            "1563/1563 [==============================] - 68s 43ms/step - loss: 1.2418 - accuracy: 0.5685 - val_loss: 1.1160 - val_accuracy: 0.6059\n",
            "Epoch 19/20\n",
            "1563/1563 [==============================] - 69s 44ms/step - loss: 1.1942 - accuracy: 0.5933 - val_loss: 1.1707 - val_accuracy: 0.5863\n",
            "Epoch 20/20\n",
            "1563/1563 [==============================] - 69s 44ms/step - loss: 1.1317 - accuracy: 0.6101 - val_loss: 1.6871 - val_accuracy: 0.4037\n",
            "313/313 [==============================] - 2s 7ms/step - loss: 1.6871 - accuracy: 0.4037\n",
            "Test loss: 1.687051773071289\n",
            "Test accuracy: 0.40369999408721924\n"
          ]
        }
      ]
    },
    {
      "cell_type": "code",
      "source": [
        "res = pd.DataFrame({'Model': ['Basic CNN','CNN with BatchNormalization','Pretrained CNN','Basic CNN_Aug','CNN with BatchNormalization_Aug','Pretrained CNN_Aug'],\n",
        "              'Test accuracy': [scores_bs[1],scores_bn[1],scores_pt[1],scores_bs_aug[1],scores_bn_aug[1],scores_pt_aug[1]],\n",
        "              'Test_loss': [scores_bs[0],scores_bn[0],scores_pt[0],scores_bs_aug[0],scores_bn_aug[0],scores_pt_aug[0]]})\n",
        "res.sort_values(['Test accuracy'],ascending=False)"
      ],
      "metadata": {
        "colab": {
          "base_uri": "https://localhost:8080/",
          "height": 237
        },
        "id": "pJmLnEjxajmt",
        "outputId": "995f3cf4-2999-4b2c-dd62-5c30916924ee"
      },
      "execution_count": 43,
      "outputs": [
        {
          "output_type": "execute_result",
          "data": {
            "text/plain": [
              "                             Model  Test accuracy  Test_loss\n",
              "4  CNN with BatchNormalization_Aug         0.8366   0.541678\n",
              "1      CNN with BatchNormalization         0.8099   0.895071\n",
              "3                    Basic CNN_Aug         0.7913   0.652551\n",
              "0                        Basic CNN         0.7762   0.918997\n",
              "2                   Pretrained CNN         0.4853   1.510943\n",
              "5               Pretrained CNN_Aug         0.4037   1.687052"
            ],
            "text/html": [
              "\n",
              "\n",
              "  <div id=\"df-a3116251-1d81-43ae-84f7-22868ea11590\">\n",
              "    <div class=\"colab-df-container\">\n",
              "      <div>\n",
              "<style scoped>\n",
              "    .dataframe tbody tr th:only-of-type {\n",
              "        vertical-align: middle;\n",
              "    }\n",
              "\n",
              "    .dataframe tbody tr th {\n",
              "        vertical-align: top;\n",
              "    }\n",
              "\n",
              "    .dataframe thead th {\n",
              "        text-align: right;\n",
              "    }\n",
              "</style>\n",
              "<table border=\"1\" class=\"dataframe\">\n",
              "  <thead>\n",
              "    <tr style=\"text-align: right;\">\n",
              "      <th></th>\n",
              "      <th>Model</th>\n",
              "      <th>Test accuracy</th>\n",
              "      <th>Test_loss</th>\n",
              "    </tr>\n",
              "  </thead>\n",
              "  <tbody>\n",
              "    <tr>\n",
              "      <th>4</th>\n",
              "      <td>CNN with BatchNormalization_Aug</td>\n",
              "      <td>0.8366</td>\n",
              "      <td>0.541678</td>\n",
              "    </tr>\n",
              "    <tr>\n",
              "      <th>1</th>\n",
              "      <td>CNN with BatchNormalization</td>\n",
              "      <td>0.8099</td>\n",
              "      <td>0.895071</td>\n",
              "    </tr>\n",
              "    <tr>\n",
              "      <th>3</th>\n",
              "      <td>Basic CNN_Aug</td>\n",
              "      <td>0.7913</td>\n",
              "      <td>0.652551</td>\n",
              "    </tr>\n",
              "    <tr>\n",
              "      <th>0</th>\n",
              "      <td>Basic CNN</td>\n",
              "      <td>0.7762</td>\n",
              "      <td>0.918997</td>\n",
              "    </tr>\n",
              "    <tr>\n",
              "      <th>2</th>\n",
              "      <td>Pretrained CNN</td>\n",
              "      <td>0.4853</td>\n",
              "      <td>1.510943</td>\n",
              "    </tr>\n",
              "    <tr>\n",
              "      <th>5</th>\n",
              "      <td>Pretrained CNN_Aug</td>\n",
              "      <td>0.4037</td>\n",
              "      <td>1.687052</td>\n",
              "    </tr>\n",
              "  </tbody>\n",
              "</table>\n",
              "</div>\n",
              "      <button class=\"colab-df-convert\" onclick=\"convertToInteractive('df-a3116251-1d81-43ae-84f7-22868ea11590')\"\n",
              "              title=\"Convert this dataframe to an interactive table.\"\n",
              "              style=\"display:none;\">\n",
              "\n",
              "  <svg xmlns=\"http://www.w3.org/2000/svg\" height=\"24px\"viewBox=\"0 0 24 24\"\n",
              "       width=\"24px\">\n",
              "    <path d=\"M0 0h24v24H0V0z\" fill=\"none\"/>\n",
              "    <path d=\"M18.56 5.44l.94 2.06.94-2.06 2.06-.94-2.06-.94-.94-2.06-.94 2.06-2.06.94zm-11 1L8.5 8.5l.94-2.06 2.06-.94-2.06-.94L8.5 2.5l-.94 2.06-2.06.94zm10 10l.94 2.06.94-2.06 2.06-.94-2.06-.94-.94-2.06-.94 2.06-2.06.94z\"/><path d=\"M17.41 7.96l-1.37-1.37c-.4-.4-.92-.59-1.43-.59-.52 0-1.04.2-1.43.59L10.3 9.45l-7.72 7.72c-.78.78-.78 2.05 0 2.83L4 21.41c.39.39.9.59 1.41.59.51 0 1.02-.2 1.41-.59l7.78-7.78 2.81-2.81c.8-.78.8-2.07 0-2.86zM5.41 20L4 18.59l7.72-7.72 1.47 1.35L5.41 20z\"/>\n",
              "  </svg>\n",
              "      </button>\n",
              "\n",
              "\n",
              "\n",
              "    <div id=\"df-a069cfb4-3d78-4ebe-997e-99b192225e9e\">\n",
              "      <button class=\"colab-df-quickchart\" onclick=\"quickchart('df-a069cfb4-3d78-4ebe-997e-99b192225e9e')\"\n",
              "              title=\"Suggest charts.\"\n",
              "              style=\"display:none;\">\n",
              "\n",
              "<svg xmlns=\"http://www.w3.org/2000/svg\" height=\"24px\"viewBox=\"0 0 24 24\"\n",
              "     width=\"24px\">\n",
              "    <g>\n",
              "        <path d=\"M19 3H5c-1.1 0-2 .9-2 2v14c0 1.1.9 2 2 2h14c1.1 0 2-.9 2-2V5c0-1.1-.9-2-2-2zM9 17H7v-7h2v7zm4 0h-2V7h2v10zm4 0h-2v-4h2v4z\"/>\n",
              "    </g>\n",
              "</svg>\n",
              "      </button>\n",
              "    </div>\n",
              "\n",
              "<style>\n",
              "  .colab-df-quickchart {\n",
              "    background-color: #E8F0FE;\n",
              "    border: none;\n",
              "    border-radius: 50%;\n",
              "    cursor: pointer;\n",
              "    display: none;\n",
              "    fill: #1967D2;\n",
              "    height: 32px;\n",
              "    padding: 0 0 0 0;\n",
              "    width: 32px;\n",
              "  }\n",
              "\n",
              "  .colab-df-quickchart:hover {\n",
              "    background-color: #E2EBFA;\n",
              "    box-shadow: 0px 1px 2px rgba(60, 64, 67, 0.3), 0px 1px 3px 1px rgba(60, 64, 67, 0.15);\n",
              "    fill: #174EA6;\n",
              "  }\n",
              "\n",
              "  [theme=dark] .colab-df-quickchart {\n",
              "    background-color: #3B4455;\n",
              "    fill: #D2E3FC;\n",
              "  }\n",
              "\n",
              "  [theme=dark] .colab-df-quickchart:hover {\n",
              "    background-color: #434B5C;\n",
              "    box-shadow: 0px 1px 3px 1px rgba(0, 0, 0, 0.15);\n",
              "    filter: drop-shadow(0px 1px 2px rgba(0, 0, 0, 0.3));\n",
              "    fill: #FFFFFF;\n",
              "  }\n",
              "</style>\n",
              "\n",
              "    <script>\n",
              "      async function quickchart(key) {\n",
              "        const containerElement = document.querySelector('#' + key);\n",
              "        const charts = await google.colab.kernel.invokeFunction(\n",
              "            'suggestCharts', [key], {});\n",
              "      }\n",
              "    </script>\n",
              "\n",
              "      <script>\n",
              "\n",
              "function displayQuickchartButton(domScope) {\n",
              "  let quickchartButtonEl =\n",
              "    domScope.querySelector('#df-a069cfb4-3d78-4ebe-997e-99b192225e9e button.colab-df-quickchart');\n",
              "  quickchartButtonEl.style.display =\n",
              "    google.colab.kernel.accessAllowed ? 'block' : 'none';\n",
              "}\n",
              "\n",
              "        displayQuickchartButton(document);\n",
              "      </script>\n",
              "      <style>\n",
              "    .colab-df-container {\n",
              "      display:flex;\n",
              "      flex-wrap:wrap;\n",
              "      gap: 12px;\n",
              "    }\n",
              "\n",
              "    .colab-df-convert {\n",
              "      background-color: #E8F0FE;\n",
              "      border: none;\n",
              "      border-radius: 50%;\n",
              "      cursor: pointer;\n",
              "      display: none;\n",
              "      fill: #1967D2;\n",
              "      height: 32px;\n",
              "      padding: 0 0 0 0;\n",
              "      width: 32px;\n",
              "    }\n",
              "\n",
              "    .colab-df-convert:hover {\n",
              "      background-color: #E2EBFA;\n",
              "      box-shadow: 0px 1px 2px rgba(60, 64, 67, 0.3), 0px 1px 3px 1px rgba(60, 64, 67, 0.15);\n",
              "      fill: #174EA6;\n",
              "    }\n",
              "\n",
              "    [theme=dark] .colab-df-convert {\n",
              "      background-color: #3B4455;\n",
              "      fill: #D2E3FC;\n",
              "    }\n",
              "\n",
              "    [theme=dark] .colab-df-convert:hover {\n",
              "      background-color: #434B5C;\n",
              "      box-shadow: 0px 1px 3px 1px rgba(0, 0, 0, 0.15);\n",
              "      filter: drop-shadow(0px 1px 2px rgba(0, 0, 0, 0.3));\n",
              "      fill: #FFFFFF;\n",
              "    }\n",
              "  </style>\n",
              "\n",
              "      <script>\n",
              "        const buttonEl =\n",
              "          document.querySelector('#df-a3116251-1d81-43ae-84f7-22868ea11590 button.colab-df-convert');\n",
              "        buttonEl.style.display =\n",
              "          google.colab.kernel.accessAllowed ? 'block' : 'none';\n",
              "\n",
              "        async function convertToInteractive(key) {\n",
              "          const element = document.querySelector('#df-a3116251-1d81-43ae-84f7-22868ea11590');\n",
              "          const dataTable =\n",
              "            await google.colab.kernel.invokeFunction('convertToInteractive',\n",
              "                                                     [key], {});\n",
              "          if (!dataTable) return;\n",
              "\n",
              "          const docLinkHtml = 'Like what you see? Visit the ' +\n",
              "            '<a target=\"_blank\" href=https://colab.research.google.com/notebooks/data_table.ipynb>data table notebook</a>'\n",
              "            + ' to learn more about interactive tables.';\n",
              "          element.innerHTML = '';\n",
              "          dataTable['output_type'] = 'display_data';\n",
              "          await google.colab.output.renderOutput(dataTable, element);\n",
              "          const docLink = document.createElement('div');\n",
              "          docLink.innerHTML = docLinkHtml;\n",
              "          element.appendChild(docLink);\n",
              "        }\n",
              "      </script>\n",
              "    </div>\n",
              "  </div>\n"
            ]
          },
          "metadata": {},
          "execution_count": 43
        }
      ]
    },
    {
      "cell_type": "markdown",
      "source": [
        "___________________\n"
      ],
      "metadata": {
        "id": "XvBoRWP5z-2B"
      }
    },
    {
      "cell_type": "markdown",
      "source": [
        "В итоге, положительным образом сказались добавление оптимизационного слоя (BatchNormalization) и аугментаций (хотя их неправильный подбор может ухужшить результат). Transfer Learning на примере MobileNet_V2 должно было значительно увеличить результат, т.к. имеются уже оптимальные веса, но что-то пошло не так..."
      ],
      "metadata": {
        "id": "S6Bzo0CM0AJq"
      }
    }
  ],
  "metadata": {
    "kernelspec": {
      "display_name": "Python 3",
      "name": "python3"
    },
    "language_info": {
      "codemirror_mode": {
        "name": "ipython",
        "version": 3
      },
      "file_extension": ".py",
      "mimetype": "text/x-python",
      "name": "python",
      "nbconvert_exporter": "python",
      "pygments_lexer": "ipython3",
      "version": "3.7.7"
    },
    "colab": {
      "provenance": [],
      "collapsed_sections": [
        "1GmmY2-gZnrn",
        "mvUah1rlOhki",
        "WvsZLja6OrT6",
        "VYUPz9YEOuci",
        "i6BkDmdIOxh4"
      ],
      "gpuType": "T4"
    },
    "accelerator": "GPU"
  },
  "nbformat": 4,
  "nbformat_minor": 0
}
