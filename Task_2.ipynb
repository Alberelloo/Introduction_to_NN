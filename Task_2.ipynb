{
  "cells": [
    {
      "cell_type": "markdown",
      "source": [
        "### Lesson 2. Keras\n",
        "\n",
        "1. Обучить, нейронную сеть на Keras на датасете MNIST."
      ],
      "metadata": {
        "id": "R3ybewMsw9oH"
      }
    },
    {
      "cell_type": "code",
      "execution_count": 1,
      "metadata": {
        "id": "Mrn7WhDjppOF"
      },
      "outputs": [],
      "source": [
        "# pip install keras\n",
        "# pip install mnist\n",
        "#!pip install scikeras[tensorflow]"
      ]
    },
    {
      "cell_type": "code",
      "execution_count": 51,
      "metadata": {
        "id": "BdtNDP-W6TJi"
      },
      "outputs": [],
      "source": [
        "import numpy as np\n",
        "import pandas as pd\n",
        "import mnist\n",
        "from keras.datasets import fashion_mnist\n",
        "from keras.models import Sequential\n",
        "from keras.layers import Dense\n",
        "from keras.utils import to_categorical\n",
        "from scikeras.wrappers import KerasClassifier\n",
        "from sklearn.model_selection import GridSearchCV"
      ]
    },
    {
      "cell_type": "markdown",
      "source": [
        "### Building model for digit recognition"
      ],
      "metadata": {
        "id": "7mUHxbyoIDyA"
      }
    },
    {
      "cell_type": "code",
      "execution_count": 18,
      "metadata": {
        "id": "AGaj-oayW29B"
      },
      "outputs": [],
      "source": [
        "#import images\n",
        "train_images = mnist.train_images()\n",
        "train_labels = mnist.train_labels()\n",
        "test_images = mnist.test_images()\n",
        "test_labels = mnist.test_labels()\n",
        "\n",
        "# Normalize the images.\n",
        "train_images = (train_images / 255)\n",
        "test_images = (test_images / 255)\n",
        "\n",
        "# Flatten the images.\n",
        "train_images = train_images.reshape((-1, 784))\n",
        "test_images = test_images.reshape((-1, 784))"
      ]
    },
    {
      "cell_type": "code",
      "execution_count": 32,
      "metadata": {
        "id": "TyAghDELZOVL"
      },
      "outputs": [],
      "source": [
        "# Build the model.\n",
        "def create_model(optimizer='adam'):\n",
        "    model = Sequential([\n",
        "      Dense(64, input_shape=(784,), activation='relu'),\n",
        "      Dense(32, activation='relu'),\n",
        "      Dense(10, activation='softmax')\n",
        "    ])\n",
        "\n",
        "    # Compile the model.\n",
        "    model.compile(\n",
        "      optimizer=optimizer,\n",
        "      loss='categorical_crossentropy',\n",
        "      metrics=['accuracy'],\n",
        "    )\n",
        "    return model"
      ]
    },
    {
      "cell_type": "code",
      "execution_count": 38,
      "metadata": {
        "colab": {
          "base_uri": "https://localhost:8080/"
        },
        "id": "FQOY8_8mb_ZI",
        "outputId": "4fb1cdc9-7952-4cf9-a021-bafeced08fa9"
      },
      "outputs": [
        {
          "output_type": "stream",
          "name": "stdout",
          "text": [
            "Epoch 1/5\n",
            "1875/1875 [==============================] - 6s 3ms/step - loss: 0.2984 - accuracy: 0.9150\n",
            "Epoch 2/5\n",
            "1875/1875 [==============================] - 6s 3ms/step - loss: 0.1355 - accuracy: 0.9596\n",
            "Epoch 3/5\n",
            "1875/1875 [==============================] - 5s 3ms/step - loss: 0.0962 - accuracy: 0.9705\n",
            "Epoch 4/5\n",
            "1875/1875 [==============================] - 6s 3ms/step - loss: 0.0784 - accuracy: 0.9764\n",
            "Epoch 5/5\n",
            "1875/1875 [==============================] - 6s 3ms/step - loss: 0.0616 - accuracy: 0.9808\n",
            "313/313 [==============================] - 1s 2ms/step - loss: 0.0979 - accuracy: 0.9715\n",
            "*****************************\n",
            "Loss - 0.1, Metrics - 0.97\n"
          ]
        }
      ],
      "source": [
        "model = create_model()\n",
        "\n",
        "# Train the model.\n",
        "model.fit(train_images, to_categorical(train_labels), epochs=5, batch_size=32)\n",
        "\n",
        "# Evaluate the model.\n",
        "loss,metrics = model.evaluate(test_images, to_categorical(test_labels))\n",
        "print('*****************************')\n",
        "print(f'Loss - {np.round(loss,2)}, Metrics - {np.round(metrics,2)}')"
      ]
    },
    {
      "cell_type": "code",
      "source": [
        "# Predict on the first 10 test images.\n",
        "predictions = model.predict(test_images[:10])\n",
        "\n",
        "# Print our model's predictions.\n",
        "print(f'Predictions: {np.argmax(predictions, axis=1)}')\n",
        "\n",
        "# Check our predictions against the ground truths.\n",
        "print(f'True labels: {test_labels[:10]}')"
      ],
      "metadata": {
        "colab": {
          "base_uri": "https://localhost:8080/"
        },
        "id": "o4mMjqT1IMoI",
        "outputId": "400f156e-c54c-443a-b2e2-5b086ee8087d"
      },
      "execution_count": 39,
      "outputs": [
        {
          "output_type": "stream",
          "name": "stdout",
          "text": [
            "1/1 [==============================] - 0s 53ms/step\n",
            "Predictions: [7 2 1 0 4 1 4 9 5 9]\n",
            "True labels: [7 2 1 0 4 1 4 9 5 9]\n"
          ]
        }
      ]
    },
    {
      "cell_type": "markdown",
      "source": [
        "### Picking params via GridSearchCV"
      ],
      "metadata": {
        "id": "3c1FUM5PIBvC"
      }
    },
    {
      "cell_type": "code",
      "execution_count": 48,
      "metadata": {
        "id": "nrtdUsU6XxAz"
      },
      "outputs": [],
      "source": [
        "batch_size = [32,60,100]\n",
        "epochs = [5, 10, 15]\n",
        "optimizer = ['SGD', 'RMSprop', 'Adam']"
      ]
    },
    {
      "cell_type": "code",
      "source": [
        "model = KerasClassifier(create_model)\n",
        "params= dict(batch_size=batch_size, epochs=epochs, optimizer=optimizer)\n",
        "grid = GridSearchCV(model, params, refit=False, cv=3, scoring='accuracy')\n",
        "\n",
        "grid_result = grid.fit(train_images, to_categorical(train_labels))\n",
        "print(grid_result.best_score_, grid_result.best_params_)"
      ],
      "metadata": {
        "id": "7C8rPHbu3rXr"
      },
      "execution_count": null,
      "outputs": []
    },
    {
      "cell_type": "code",
      "source": [
        "print(grid_result.best_score_, grid_result.best_params_)"
      ],
      "metadata": {
        "colab": {
          "base_uri": "https://localhost:8080/"
        },
        "id": "3C4hTkQLVW47",
        "outputId": "0d797040-dd3f-4309-8674-96c6a9aec9ef"
      },
      "execution_count": 55,
      "outputs": [
        {
          "output_type": "stream",
          "name": "stdout",
          "text": [
            "0.9688500000000001 {'batch_size': 32, 'epochs': 15, 'optimizer': 'SGD'}\n"
          ]
        }
      ]
    },
    {
      "cell_type": "code",
      "source": [
        "df = pd.DataFrame(grid_result.cv_results_)"
      ],
      "metadata": {
        "id": "ifbRq739Ryq1"
      },
      "execution_count": 56,
      "outputs": []
    },
    {
      "cell_type": "code",
      "source": [
        "df.sort_values(['mean_test_score'],ascending=False)[['param_batch_size','param_epochs','param_optimizer','mean_test_score']].head(10)"
      ],
      "metadata": {
        "colab": {
          "base_uri": "https://localhost:8080/",
          "height": 363
        },
        "id": "0DzPNSt8V7i5",
        "outputId": "a0c25605-38ec-458c-b403-8968ede1bb5b"
      },
      "execution_count": 69,
      "outputs": [
        {
          "output_type": "execute_result",
          "data": {
            "text/plain": [
              "   param_batch_size param_epochs param_optimizer  mean_test_score\n",
              "6                32           15             SGD         0.968850\n",
              "5                32           10            Adam         0.968600\n",
              "15               60           15             SGD         0.968133\n",
              "17               60           15            Adam         0.967867\n",
              "12               60           10             SGD         0.967317\n",
              "26              100           15            Adam         0.967233\n",
              "21              100           10             SGD         0.967200\n",
              "25              100           15         RMSprop         0.967067\n",
              "16               60           15         RMSprop         0.967033\n",
              "7                32           15         RMSprop         0.966717"
            ],
            "text/html": [
              "\n",
              "  <div id=\"df-85f91cd2-bd3a-40ed-ac36-e643b06e719f\">\n",
              "    <div class=\"colab-df-container\">\n",
              "      <div>\n",
              "<style scoped>\n",
              "    .dataframe tbody tr th:only-of-type {\n",
              "        vertical-align: middle;\n",
              "    }\n",
              "\n",
              "    .dataframe tbody tr th {\n",
              "        vertical-align: top;\n",
              "    }\n",
              "\n",
              "    .dataframe thead th {\n",
              "        text-align: right;\n",
              "    }\n",
              "</style>\n",
              "<table border=\"1\" class=\"dataframe\">\n",
              "  <thead>\n",
              "    <tr style=\"text-align: right;\">\n",
              "      <th></th>\n",
              "      <th>param_batch_size</th>\n",
              "      <th>param_epochs</th>\n",
              "      <th>param_optimizer</th>\n",
              "      <th>mean_test_score</th>\n",
              "    </tr>\n",
              "  </thead>\n",
              "  <tbody>\n",
              "    <tr>\n",
              "      <th>6</th>\n",
              "      <td>32</td>\n",
              "      <td>15</td>\n",
              "      <td>SGD</td>\n",
              "      <td>0.968850</td>\n",
              "    </tr>\n",
              "    <tr>\n",
              "      <th>5</th>\n",
              "      <td>32</td>\n",
              "      <td>10</td>\n",
              "      <td>Adam</td>\n",
              "      <td>0.968600</td>\n",
              "    </tr>\n",
              "    <tr>\n",
              "      <th>15</th>\n",
              "      <td>60</td>\n",
              "      <td>15</td>\n",
              "      <td>SGD</td>\n",
              "      <td>0.968133</td>\n",
              "    </tr>\n",
              "    <tr>\n",
              "      <th>17</th>\n",
              "      <td>60</td>\n",
              "      <td>15</td>\n",
              "      <td>Adam</td>\n",
              "      <td>0.967867</td>\n",
              "    </tr>\n",
              "    <tr>\n",
              "      <th>12</th>\n",
              "      <td>60</td>\n",
              "      <td>10</td>\n",
              "      <td>SGD</td>\n",
              "      <td>0.967317</td>\n",
              "    </tr>\n",
              "    <tr>\n",
              "      <th>26</th>\n",
              "      <td>100</td>\n",
              "      <td>15</td>\n",
              "      <td>Adam</td>\n",
              "      <td>0.967233</td>\n",
              "    </tr>\n",
              "    <tr>\n",
              "      <th>21</th>\n",
              "      <td>100</td>\n",
              "      <td>10</td>\n",
              "      <td>SGD</td>\n",
              "      <td>0.967200</td>\n",
              "    </tr>\n",
              "    <tr>\n",
              "      <th>25</th>\n",
              "      <td>100</td>\n",
              "      <td>15</td>\n",
              "      <td>RMSprop</td>\n",
              "      <td>0.967067</td>\n",
              "    </tr>\n",
              "    <tr>\n",
              "      <th>16</th>\n",
              "      <td>60</td>\n",
              "      <td>15</td>\n",
              "      <td>RMSprop</td>\n",
              "      <td>0.967033</td>\n",
              "    </tr>\n",
              "    <tr>\n",
              "      <th>7</th>\n",
              "      <td>32</td>\n",
              "      <td>15</td>\n",
              "      <td>RMSprop</td>\n",
              "      <td>0.966717</td>\n",
              "    </tr>\n",
              "  </tbody>\n",
              "</table>\n",
              "</div>\n",
              "      <button class=\"colab-df-convert\" onclick=\"convertToInteractive('df-85f91cd2-bd3a-40ed-ac36-e643b06e719f')\"\n",
              "              title=\"Convert this dataframe to an interactive table.\"\n",
              "              style=\"display:none;\">\n",
              "        \n",
              "  <svg xmlns=\"http://www.w3.org/2000/svg\" height=\"24px\"viewBox=\"0 0 24 24\"\n",
              "       width=\"24px\">\n",
              "    <path d=\"M0 0h24v24H0V0z\" fill=\"none\"/>\n",
              "    <path d=\"M18.56 5.44l.94 2.06.94-2.06 2.06-.94-2.06-.94-.94-2.06-.94 2.06-2.06.94zm-11 1L8.5 8.5l.94-2.06 2.06-.94-2.06-.94L8.5 2.5l-.94 2.06-2.06.94zm10 10l.94 2.06.94-2.06 2.06-.94-2.06-.94-.94-2.06-.94 2.06-2.06.94z\"/><path d=\"M17.41 7.96l-1.37-1.37c-.4-.4-.92-.59-1.43-.59-.52 0-1.04.2-1.43.59L10.3 9.45l-7.72 7.72c-.78.78-.78 2.05 0 2.83L4 21.41c.39.39.9.59 1.41.59.51 0 1.02-.2 1.41-.59l7.78-7.78 2.81-2.81c.8-.78.8-2.07 0-2.86zM5.41 20L4 18.59l7.72-7.72 1.47 1.35L5.41 20z\"/>\n",
              "  </svg>\n",
              "      </button>\n",
              "      \n",
              "  <style>\n",
              "    .colab-df-container {\n",
              "      display:flex;\n",
              "      flex-wrap:wrap;\n",
              "      gap: 12px;\n",
              "    }\n",
              "\n",
              "    .colab-df-convert {\n",
              "      background-color: #E8F0FE;\n",
              "      border: none;\n",
              "      border-radius: 50%;\n",
              "      cursor: pointer;\n",
              "      display: none;\n",
              "      fill: #1967D2;\n",
              "      height: 32px;\n",
              "      padding: 0 0 0 0;\n",
              "      width: 32px;\n",
              "    }\n",
              "\n",
              "    .colab-df-convert:hover {\n",
              "      background-color: #E2EBFA;\n",
              "      box-shadow: 0px 1px 2px rgba(60, 64, 67, 0.3), 0px 1px 3px 1px rgba(60, 64, 67, 0.15);\n",
              "      fill: #174EA6;\n",
              "    }\n",
              "\n",
              "    [theme=dark] .colab-df-convert {\n",
              "      background-color: #3B4455;\n",
              "      fill: #D2E3FC;\n",
              "    }\n",
              "\n",
              "    [theme=dark] .colab-df-convert:hover {\n",
              "      background-color: #434B5C;\n",
              "      box-shadow: 0px 1px 3px 1px rgba(0, 0, 0, 0.15);\n",
              "      filter: drop-shadow(0px 1px 2px rgba(0, 0, 0, 0.3));\n",
              "      fill: #FFFFFF;\n",
              "    }\n",
              "  </style>\n",
              "\n",
              "      <script>\n",
              "        const buttonEl =\n",
              "          document.querySelector('#df-85f91cd2-bd3a-40ed-ac36-e643b06e719f button.colab-df-convert');\n",
              "        buttonEl.style.display =\n",
              "          google.colab.kernel.accessAllowed ? 'block' : 'none';\n",
              "\n",
              "        async function convertToInteractive(key) {\n",
              "          const element = document.querySelector('#df-85f91cd2-bd3a-40ed-ac36-e643b06e719f');\n",
              "          const dataTable =\n",
              "            await google.colab.kernel.invokeFunction('convertToInteractive',\n",
              "                                                     [key], {});\n",
              "          if (!dataTable) return;\n",
              "\n",
              "          const docLinkHtml = 'Like what you see? Visit the ' +\n",
              "            '<a target=\"_blank\" href=https://colab.research.google.com/notebooks/data_table.ipynb>data table notebook</a>'\n",
              "            + ' to learn more about interactive tables.';\n",
              "          element.innerHTML = '';\n",
              "          dataTable['output_type'] = 'display_data';\n",
              "          await google.colab.output.renderOutput(dataTable, element);\n",
              "          const docLink = document.createElement('div');\n",
              "          docLink.innerHTML = docLinkHtml;\n",
              "          element.appendChild(docLink);\n",
              "        }\n",
              "      </script>\n",
              "    </div>\n",
              "  </div>\n",
              "  "
            ]
          },
          "metadata": {},
          "execution_count": 69
        }
      ]
    }
  ],
  "metadata": {
    "accelerator": "GPU",
    "colab": {
      "provenance": [],
      "gpuType": "T4"
    },
    "kernelspec": {
      "display_name": "Python 3",
      "name": "python3"
    },
    "language_info": {
      "codemirror_mode": {
        "name": "ipython",
        "version": 3
      },
      "file_extension": ".py",
      "mimetype": "text/x-python",
      "name": "python",
      "nbconvert_exporter": "python",
      "pygments_lexer": "ipython3",
      "version": "3.7.7"
    }
  },
  "nbformat": 4,
  "nbformat_minor": 0
}